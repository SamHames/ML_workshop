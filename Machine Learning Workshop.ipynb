{
 "cells": [
  {
   "cell_type": "markdown",
   "metadata": {
    "slideshow": {
     "slide_type": "notes"
    }
   },
   "source": [
    "# Machine Learning with scikit-learn"
   ]
  },
  {
   "cell_type": "markdown",
   "metadata": {
    "slideshow": {
     "slide_type": "slide"
    }
   },
   "source": [
    "# Preamble: Setup and Installation\n"
   ]
  },
  {
   "cell_type": "code",
   "execution_count": 7,
   "metadata": {
    "collapsed": false,
    "slideshow": {
     "slide_type": "fragment"
    }
   },
   "outputs": [],
   "source": [
    "import numpy as np\n",
    "from sklearn import datasets\n",
    "\n",
    "digits = datasets.load_digits() # Distributed with sklearn\n",
    "mnist = datasets.fetch_mldata('MNIST original') # Requires internet access.\n"
   ]
  },
  {
   "cell_type": "markdown",
   "metadata": {
    "slideshow": {
     "slide_type": "slide"
    }
   },
   "source": [
    "# What is machine learning?\n",
    "\n",
    "    \"\"\"[Machine learning is the] field of study that gives computers the ability to learn without being explicitly programmed.\"\"\"\n",
    "    \n",
    "Arthur Samuel, 1959\n",
    "\n"
   ]
  },
  {
   "cell_type": "markdown",
   "metadata": {
    "slideshow": {
     "slide_type": "notes"
    }
   },
   "source": [
    "We write code that looks like the following all the time. This is an example of a manually constructed decision tree, where the decisions at each stage in the branch are based explicitly on our knowledge of the system in question. For example if we're dealing with http requests we'll take different actions depending on the predefined response codes. If we're writing a fluid dynamics simulation the branches might depend on the properties of the fluid. We could even be handling the user input to our function.\n",
    "\n",
    "Those examples are all systems where we already have a high degree of knowledge about the system and it's structure: our decisions are based on concrete rules. Machine learning as a field focuses on what we can do when instead of explicit knowledge of a system we only have example data. Instead of physical laws or a specification we have data. Machine learning is about going from the data to decisions in complex systems where the underlying structure is difficult or impossible to handle.\n",
    "\n",
    "In this specific example we have a decision tree. Instead of a manually constructed decision tree based on some numbers on a website a machine learning approach would start with measurements of giraffes and some labels as to whether this was considered tall or short or average. The aim of a machine learning algorithm is to construct rules for classification based on only the input data. For example a decision tree algorithm aims to automatically construct a tree, deciding which variables to split on, which order to split them, and what the thresholds for each split are.\n",
    "\n",
    "\n",
    "(You'll note that this could also be formulated as a statistical problem. The question of whether a giraffe is tall or not could be stated as looking at where the height of that giraffe falls in the distributions of heights of a sample.)\n"
   ]
  },
  {
   "cell_type": "code",
   "execution_count": 3,
   "metadata": {
    "collapsed": true,
    "slideshow": {
     "slide_type": "subslide"
    }
   },
   "outputs": [],
   "source": [
    "def classify_giraffe_height(height):\n",
    "    \"\"\"A simple heuristic decision tree for categorising a giraffe's height.\"\"\"\n",
    "    if height > 5.2:\n",
    "        return 'Tall'\n",
    "    elif height > 4.5:\n",
    "        return 'Average'\n",
    "    else:\n",
    "        return 'Short'\n",
    "    \n",
    "# www.howtallisagiraffe.com"
   ]
  },
  {
   "cell_type": "code",
   "execution_count": 4,
   "metadata": {
    "collapsed": true,
    "slideshow": {
     "slide_type": "subslide"
    }
   },
   "outputs": [],
   "source": [
    "def classify_giraffe_height(height, gender):\n",
    "    \"\"\"A more complex decision tree for categorising a giraffe's height.\"\"\"\n",
    "    if gender == 'Male':\n",
    "        if height > 5.2:\n",
    "            return 'Tall'\n",
    "        elif height > 4.3:\n",
    "            return 'Average'\n",
    "        else:\n",
    "            return 'Short'\n",
    "    elif gender == 'Female':\n",
    "        if height > 4.3:\n",
    "            return 'Tall'\n",
    "        elif height > 3.5:\n",
    "            return 'Average'\n",
    "        else:\n",
    "            return 'Short'\n",
    "        \n",
    "# www.howtallisagiraffe.com"
   ]
  },
  {
   "cell_type": "markdown",
   "metadata": {
    "slideshow": {
     "slide_type": "slide"
    }
   },
   "source": [
    "# The machine learning landscape"
   ]
  },
  {
   "cell_type": "markdown",
   "metadata": {
    "slideshow": {
     "slide_type": "notes"
    }
   },
   "source": [
    "Machine learning is a large field with many sub-domains and niches, focusing on either particular applications or particular techniques. In the course of this tutorial we're going to focus on one subset: supervised learning on batches of data. \n",
    "\n",
    "Other fields: unsupervised, reinforcement learning."
   ]
  },
  {
   "cell_type": "markdown",
   "metadata": {
    "slideshow": {
     "slide_type": "slide"
    }
   },
   "source": [
    "# Why scikit-learn?"
   ]
  },
  {
   "cell_type": "markdown",
   "metadata": {
    "slideshow": {
     "slide_type": "notes"
    }
   },
   "source": [
    "Scikit-learn is a major part of the machine learning ecosystem in Python for many reasons. It aims to provide:\n",
    "\n",
    "1. Solid implementations of fundamental machine learning algorithms (not cutting edge or experimental).\n",
    "2. Central tools for validation, parameter tuning, evaluation metrics etc.\n",
    "3. A lightweight object oriented API for building and extending machine learning pipelines."
   ]
  },
  {
   "cell_type": "markdown",
   "metadata": {
    "slideshow": {
     "slide_type": "slide"
    }
   },
   "source": [
    "# Approach to machine learning\n",
    "\n",
    "Raw data --> Features --> Classifier --> Prediction\n",
    "\n"
   ]
  },
  {
   "cell_type": "markdown",
   "metadata": {
    "slideshow": {
     "slide_type": "slide"
    }
   },
   "source": [
    "# The Digits Dataset"
   ]
  },
  {
   "cell_type": "code",
   "execution_count": 11,
   "metadata": {
    "collapsed": false,
    "slideshow": {
     "slide_type": "fragment"
    }
   },
   "outputs": [
    {
     "data": {
      "text/plain": [
       "array([0, 1, 2, ..., 8, 9, 8])"
      ]
     },
     "execution_count": 11,
     "metadata": {},
     "output_type": "execute_result"
    },
    {
     "data": {
      "image/png": "[encoded data removed]",
      "text/plain": [
       "<matplotlib.figure.Figure at 0x7fb294a72438>"
      ]
     },
     "metadata": {},
     "output_type": "display_data"
    }
   ],
   "source": [
    "display_digits = np.hstack(digits['data'][:5].reshape((-1, 8, 8)))\n",
    "plt.imshow(display_digits, cmap='gray', vmin=0, vmax=16)\n",
    "plt.axis('off')\n",
    "\n",
    "digit_values = digits['data']\n",
    "digit_labels = digits['target']\n",
    "\n",
    "digit_values.shape\n",
    "digit_labels\n"
   ]
  },
  {
   "cell_type": "code",
   "execution_count": 16,
   "metadata": {
    "collapsed": false,
    "slideshow": {
     "slide_type": "slide"
    }
   },
   "outputs": [
    {
     "data": {
      "text/plain": [
       "1.0"
      ]
     },
     "execution_count": 16,
     "metadata": {},
     "output_type": "execute_result"
    }
   ],
   "source": [
    "from sklearn import tree\n",
    "\n",
    "clf = tree.DecisionTreeClassifier()\n",
    "\n",
    "clf.fit(digit_values, digit_labels)\n",
    "\n",
    "clf.predict(digit_values[:5])\n",
    "\n",
    "clf.score(digit_values, digit_labels)"
   ]
  },
  {
   "cell_type": "code",
   "execution_count": 145,
   "metadata": {
    "collapsed": false,
    "slideshow": {
     "slide_type": "notes"
    }
   },
   "outputs": [
    {
     "name": "stdout",
     "output_type": "stream",
     "text": [
      "First row of the digits:\n",
      "<class 'numpy.ndarray'> (1797, 64)\n",
      "[[  0.   0.   5.  13.   9.   1.   0.   0.   0.   0.  13.  15.  10.  15.\n",
      "    5.   0.   0.   3.  15.   2.   0.  11.   8.   0.   0.   4.  12.   0.\n",
      "    0.   8.   8.   0.   0.   5.   8.   0.   0.   9.   8.   0.   0.   4.\n",
      "   11.   0.   1.  12.   7.   0.   0.   2.  14.   5.  10.  12.   0.   0.\n",
      "    0.   0.   6.  13.  10.   0.   0.   0.]]\n",
      "\n",
      "The first five digit labels:\n",
      "<class 'numpy.ndarray'> (1797,)\n",
      "[0 1 2 3 4]\n"
     ]
    }
   ],
   "source": [
    "digit_values = digits['data']\n",
    "digit_labels = digits['target']\n",
    "\n",
    "print(\"First row of the digits:\")\n",
    "print(type(digit_values), digit_values.shape)\n",
    "print(digit_values[:1])\n",
    "print()\n",
    "\n",
    "print(\"The first five digit labels:\")\n",
    "print(type(digit_labels), digit_labels.shape)\n",
    "print(digit_labels[:5])\n",
    "\n",
    "# Talk about sklearn assumptions and internal API.\n"
   ]
  },
  {
   "cell_type": "code",
   "execution_count": 204,
   "metadata": {
    "collapsed": false,
    "slideshow": {
     "slide_type": "notes"
    }
   },
   "outputs": [
    {
     "name": "stdout",
     "output_type": "stream",
     "text": [
      "[0 1 2 3 4]\n",
      "1.0\n"
     ]
    }
   ],
   "source": [
    "# Train a decision tree classifier to tell the digits apart\n",
    "\n",
    "from sklearn import tree\n",
    "\n",
    "clf = tree.DecisionTreeClassifier()\n",
    "\n",
    "clf.fit(digit_values, digit_labels)\n",
    "\n",
    "print(clf.predict(digit_values)[:5])\n",
    "print(clf.score(digit_values, digit_labels))\n",
    "      "
   ]
  },
  {
   "cell_type": "markdown",
   "metadata": {
    "slideshow": {
     "slide_type": "slide"
    }
   },
   "source": [
    "# Exercises\n",
    "1. Investigate the methods and attributes of the classifier we just trained. \n",
    "2. The classifier we just trained has a score method which can be used to evaluate performance. Why is clf.score(x, y) not a good measure of performance? "
   ]
  },
  {
   "cell_type": "markdown",
   "metadata": {
    "slideshow": {
     "slide_type": "slide"
    }
   },
   "source": [
    "# Validating your model\n",
    "\n",
    "You cannot use the training data to estimate the performance of your model!"
   ]
  },
  {
   "cell_type": "code",
   "execution_count": 28,
   "metadata": {
    "collapsed": false,
    "slideshow": {
     "slide_type": "slide"
    }
   },
   "outputs": [
    {
     "name": "stdout",
     "output_type": "stream",
     "text": [
      "0.779852582343\n"
     ]
    }
   ],
   "source": [
    "from sklearn import cross_validation\n",
    "\n",
    "from sklearn import linear_model, svm, ensemble, qda\n",
    "\n",
    "clf = tree.DecisionTreeClassifier(max_depth=10)\n",
    "\n",
    "\n",
    "print(np.mean(cross_validation.cross_val_score(clf, digit_values, digit_labels\n",
    "                                      , cv=5)))"
   ]
  },
  {
   "cell_type": "code",
   "execution_count": 205,
   "metadata": {
    "collapsed": false,
    "slideshow": {
     "slide_type": "notes"
    }
   },
   "outputs": [
    {
     "name": "stdout",
     "output_type": "stream",
     "text": [
      "0.7876598573\n",
      "0.78\n"
     ]
    }
   ],
   "source": [
    "from sklearn import cross_validation\n",
    "\n",
    "print(np.mean(cross_validation.cross_val_score(clf, digits.data, digits.target, cv=5)))\n",
    "\n",
    "cross_validator = cross_validation.KFold(len(digits.data), n_folds=10, shuffle=True)\n",
    "print(np.mean(cross_validation.cross_val_score(clf, digits.data, digits.target, cv=cv)))"
   ]
  },
  {
   "cell_type": "markdown",
   "metadata": {
    "slideshow": {
     "slide_type": "slide"
    }
   },
   "source": [
    "# Exercises\n",
    "\n",
    "Can you improve performance by:\n",
    "1. Changing the parameters of the decision tree?\n",
    "2. Using a different classifier?\n"
   ]
  },
  {
   "cell_type": "markdown",
   "metadata": {
    "slideshow": {
     "slide_type": "slide"
    }
   },
   "source": [
    "# Choose the right metric\n",
    "\n",
    "A highly accurate test for cancer in the general population in Australia:\n",
    "\n",
    "    Do I have cancer?  -->  No.\n",
    "    \n",
    "[Cancer incidence statistics](https://canceraustralia.gov.au/affected-cancer/what-cancer/cancer-australia-statistics)"
   ]
  },
  {
   "cell_type": "markdown",
   "metadata": {
    "slideshow": {
     "slide_type": "slide"
    }
   },
   "source": [
    "# Choosing parameters"
   ]
  },
  {
   "cell_type": "code",
   "execution_count": 32,
   "metadata": {
    "collapsed": false,
    "slideshow": {
     "slide_type": "slide"
    }
   },
   "outputs": [
    {
     "data": {
      "text/plain": [
       "array([ 0.8986711 ,  0.94490818,  0.90939597])"
      ]
     },
     "execution_count": 32,
     "metadata": {},
     "output_type": "execute_result"
    }
   ],
   "source": [
    "from sklearn import linear_model\n",
    "from sklearn import grid_search\n",
    "\n",
    "param_grid = {\"C\": [1, 10, 100],\n",
    "              \"penalty\": ['l1', 'l2']}\n",
    "\n",
    "clf = linear_model.LogisticRegression()\n",
    "\n",
    "parameter_clf = grid_search.GridSearchCV(estimator=clf,\n",
    "                                         param_grid=param_grid,\n",
    "                                         cv=5)\n",
    " parameter_clf.fit(digit_values, digit_labels)\n",
    "\n",
    "cross_validation.cross_val_score(parameter_clf,digit_values, \n",
    "                                 digit_labels, cv=3)\n",
    "\n",
    "parameter_clf.\n"
   ]
  },
  {
   "cell_type": "code",
   "execution_count": 206,
   "metadata": {
    "collapsed": false,
    "slideshow": {
     "slide_type": "notes"
    }
   },
   "outputs": [
    {
     "name": "stdout",
     "output_type": "stream",
     "text": [
      "[ 0.92582418  0.89226519  0.94707521  0.96078431  0.89859155]\n",
      "[ 0.92582418  0.88121547  0.92200557  0.96078431  0.89859155]\n",
      "{'penalty': 'l2', 'C': 1}\n"
     ]
    }
   ],
   "source": [
    "from sklearn import grid_search\n",
    "\n",
    "\n",
    "param_grid = {\"C\": [1, 100, 10000],\n",
    "              \"penalty\": ['l1', 'l2']}\n",
    "\n",
    "base_clf = linear_model.LogisticRegression(tol=1e-1)\n",
    "\n",
    "parameter_search_clf = grid_search.GridSearchCV(estimator=base_clf, param_grid=param_grid, cv=5)\n",
    "\n",
    "print(cross_validation.cross_val_score(parameter_search_clf, digit_values, digit_labels, cv=5))\n",
    "print(cross_validation.cross_val_score(parameter_search_clf, digit_values, digit_labels, cv=5))\n",
    "\n",
    "parameter_search_clf.fit(digit_values, digit_labels)\n",
    "\n",
    "# Examine the final parameters chosen.\n",
    "print(parameter_search_clf.best_params_)\n"
   ]
  },
  {
   "cell_type": "markdown",
   "metadata": {
    "slideshow": {
     "slide_type": "slide"
    }
   },
   "source": [
    "# Exercises\n",
    "\n",
    "1. We can just fit the parameter_search_clf directly, why not do that?"
   ]
  },
  {
   "cell_type": "markdown",
   "metadata": {
    "slideshow": {
     "slide_type": "slide"
    }
   },
   "source": [
    "# Choosing a classifier\n",
    "\n",
    "The bad news: there is no universal classifier (no free lunch theorem)."
   ]
  },
  {
   "cell_type": "markdown",
   "metadata": {
    "slideshow": {
     "slide_type": "notes"
    }
   },
   "source": [
    "Machine learning is a pragmatic, data driven field:\n",
    "\n",
    "The best classifier for your dataset is the classifier that works best on your dataset...\n",
    "\n",
    "You can have a good hunch based on: problem domain, previous experience, features types etc. But if the classifier doesn't work you should ditch it and try something else.\n",
    "\n",
    "Starting point: try out the linear classifiers, then random forest, then others. (computational cost, model complexity). If you have a large dataset you might be limited to linear classifiers anyway."
   ]
  },
  {
   "cell_type": "markdown",
   "metadata": {
    "slideshow": {
     "slide_type": "slide"
    }
   },
   "source": [
    "# Exercise\n",
    "\n",
    "1. Find a better performing classifier/combination of parameters for the above dataset.\n",
    "(You might like to subsample the training data while your experimenting with the parameters)"
   ]
  },
  {
   "cell_type": "markdown",
   "metadata": {
    "slideshow": {
     "slide_type": "slide"
    }
   },
   "source": [
    "# The MNIST dataset\n"
   ]
  },
  {
   "cell_type": "code",
   "execution_count": 34,
   "metadata": {
    "collapsed": false,
    "slideshow": {
     "slide_type": "fragment"
    }
   },
   "outputs": [
    {
     "data": {
      "text/plain": [
       "(60000, 784)"
      ]
     },
     "execution_count": 34,
     "metadata": {},
     "output_type": "execute_result"
    }
   ],
   "source": [
    "training_data = mnist.data[:60000]\n",
    "testing_data = mnist.data[60000:]\n",
    "\n",
    "training_labels = mnist.target[:60000]\n",
    "testing_labels = mnist.target[60000:]\n",
    "\n",
    "training_data.shape"
   ]
  },
  {
   "cell_type": "code",
   "execution_count": null,
   "metadata": {
    "collapsed": true,
    "slideshow": {
     "slide_type": "notes"
    }
   },
   "outputs": [],
   "source": [
    "training_data = mnist.data[:60000]\n",
    "testing_data = mnist.data[60000:]\n",
    "training_labels = mnist.target[:60000]\n",
    "testing_labels = mnist.target[60000:]"
   ]
  },
  {
   "cell_type": "code",
   "execution_count": 197,
   "metadata": {
    "collapsed": false,
    "slideshow": {
     "slide_type": "subslide"
    }
   },
   "outputs": [
    {
     "data": {
      "text/plain": [
       "(-0.5, 27.5, 27.5, -0.5)"
      ]
     },
     "execution_count": 197,
     "metadata": {},
     "output_type": "execute_result"
    },
    {
     "data": {
      "image/png": "[encoded data removed]",
      "text/plain": [
       "<matplotlib.figure.Figure at 0x7f47836985c0>"
      ]
     },
     "metadata": {},
     "output_type": "display_data"
    }
   ],
   "source": [
    "plt.subplot(2, 1, 1)\n",
    "plt.imshow(np.hstack(training_data[::10000].reshape((-1, 28, 28))), cmap='gray')\n",
    "plt.axis('off')\n",
    "plt.subplot(2, 1, 2)\n",
    "plt.imshow(np.mean(training_data, axis=0).reshape((28, 28)), cmap='gray')\n",
    "plt.axis('off')"
   ]
  },
  {
   "cell_type": "markdown",
   "metadata": {
    "slideshow": {
     "slide_type": "slide"
    }
   },
   "source": [
    "# Transformers and Pipelines"
   ]
  },
  {
   "cell_type": "code",
   "execution_count": 39,
   "metadata": {
    "collapsed": false,
    "slideshow": {
     "slide_type": "slide"
    }
   },
   "outputs": [
    {
     "name": "stdout",
     "output_type": "stream",
     "text": [
      "0.8301\n"
     ]
    }
   ],
   "source": [
    "from sklearn.pipeline import Pipeline\n",
    "from sklearn.decomposition import PCA\n",
    "\n",
    "variable_reduction = PCA(n_components=30)\n",
    "clf = linear_model.RidgeClassifier(tol=1e-1)\n",
    "\n",
    "svm_pca_pipeline = Pipeline([('pca', variable_reduction),\n",
    "                            ('ridge', clf)])\n",
    "\n",
    "param_grid = {\"ridge__alpha\"}\n",
    "\n",
    "svm_pca_pipeline.fit(training_data, training_labels)\n",
    "print(svm_pca_pipeline.score(testing_data, testing_labels))"
   ]
  },
  {
   "cell_type": "markdown",
   "metadata": {
    "slideshow": {
     "slide_type": "notes"
    }
   },
   "source": [
    "Types of features depend on the input data... Text, images, complete emails.\n",
    "\n",
    "Give examples in the notes of course, but don't talk about everything.\n",
    "\n",
    "Be careful with categorical features: don't want them interpreted as continuous variables...\n",
    "Need to use one hot encoding to transform into independant binary variables. (One hot encoder...)"
   ]
  },
  {
   "cell_type": "code",
   "execution_count": 1,
   "metadata": {
    "collapsed": false,
    "slideshow": {
     "slide_type": "notes"
    }
   },
   "outputs": [
    {
     "ename": "NameError",
     "evalue": "name 'training_data' is not defined",
     "output_type": "error",
     "traceback": [
      "\u001b[1;31m---------------------------------------------------------------------------\u001b[0m",
      "\u001b[1;31mNameError\u001b[0m                                 Traceback (most recent call last)",
      "\u001b[1;32m<ipython-input-1-db24e59be10c>\u001b[0m in \u001b[0;36m<module>\u001b[1;34m()\u001b[0m\n\u001b[0;32m      9\u001b[0m \u001b[0msvm_pca_pipeline\u001b[0m \u001b[1;33m=\u001b[0m \u001b[0mPipeline\u001b[0m\u001b[1;33m(\u001b[0m\u001b[1;33m[\u001b[0m\u001b[1;33m(\u001b[0m\u001b[1;34m'pca'\u001b[0m\u001b[1;33m,\u001b[0m \u001b[0mvariable_reduction\u001b[0m\u001b[1;33m)\u001b[0m\u001b[1;33m,\u001b[0m \u001b[1;33m(\u001b[0m\u001b[1;34m'svc'\u001b[0m\u001b[1;33m,\u001b[0m \u001b[0mclf\u001b[0m\u001b[1;33m)\u001b[0m\u001b[1;33m]\u001b[0m\u001b[1;33m)\u001b[0m\u001b[1;33m\u001b[0m\u001b[0m\n\u001b[0;32m     10\u001b[0m \u001b[1;33m\u001b[0m\u001b[0m\n\u001b[1;32m---> 11\u001b[1;33m \u001b[0msvm_pca_pipeline\u001b[0m\u001b[1;33m.\u001b[0m\u001b[0mfit\u001b[0m\u001b[1;33m(\u001b[0m\u001b[0mtraining_data\u001b[0m\u001b[1;33m,\u001b[0m \u001b[0mtraining_labels\u001b[0m\u001b[1;33m)\u001b[0m\u001b[1;33m\u001b[0m\u001b[0m\n\u001b[0m\u001b[0;32m     12\u001b[0m \u001b[0msvm_pca_pipeline\u001b[0m\u001b[1;33m.\u001b[0m\u001b[0mscore\u001b[0m\u001b[1;33m(\u001b[0m\u001b[0mtesting_data\u001b[0m\u001b[1;33m,\u001b[0m \u001b[0mtesting_labels\u001b[0m\u001b[1;33m)\u001b[0m\u001b[1;33m\u001b[0m\u001b[0m\n",
      "\u001b[1;31mNameError\u001b[0m: name 'training_data' is not defined"
     ]
    }
   ],
   "source": [
    "from sklearn.svm import LinearSVC\n",
    "from sklearn.pipeline import Pipeline\n",
    "from sklearn.decomposition import PCA\n",
    "\n",
    "# Now build a pipeline of results:\n",
    "variable_reduction = PCA(n_components=30, whiten=True)\n",
    "clf = LinearSVC(tol=0.5)\n",
    "\n",
    "svm_pca_pipeline = Pipeline([('pca', variable_reduction), ('svc', clf)])\n",
    "\n",
    "svm_pca_pipeline.fit(training_data, training_labels)\n",
    "svm_pca_pipeline.score(testing_data, testing_labels)"
   ]
  },
  {
   "cell_type": "markdown",
   "metadata": {
    "slideshow": {
     "slide_type": "slide"
    }
   },
   "source": [
    "# Validation with Pipelines"
   ]
  },
  {
   "cell_type": "code",
   "execution_count": null,
   "metadata": {
    "collapsed": true,
    "slideshow": {
     "slide_type": "slide"
    }
   },
   "outputs": [],
   "source": []
  },
  {
   "cell_type": "code",
   "execution_count": 211,
   "metadata": {
    "collapsed": false,
    "slideshow": {
     "slide_type": "notes"
    }
   },
   "outputs": [
    {
     "name": "stdout",
     "output_type": "stream",
     "text": [
      "{'svc__C': 1, 'pca__n_components': 30}\n"
     ]
    }
   ],
   "source": [
    "param_grid = {\"svc__C\": [1, 100],\n",
    "              \"pca__n_components\": [10, 20]}\n",
    "\n",
    "grid = grid_search.GridSearchCV(svm_pca_pipeline, param_grid, n_jobs=4)\n",
    "grid.fit(training_data, training_labels)\n",
    "\n",
    "print(grid.best_params_)\n"
   ]
  },
  {
   "cell_type": "markdown",
   "metadata": {
    "slideshow": {
     "slide_type": "slide"
    }
   },
   "source": [
    "# Other Performance Measures"
   ]
  },
  {
   "cell_type": "code",
   "execution_count": null,
   "metadata": {
    "collapsed": true,
    "slideshow": {
     "slide_type": "slide"
    }
   },
   "outputs": [],
   "source": []
  },
  {
   "cell_type": "code",
   "execution_count": 216,
   "metadata": {
    "collapsed": false,
    "slideshow": {
     "slide_type": "notes"
    }
   },
   "outputs": [
    {
     "name": "stdout",
     "output_type": "stream",
     "text": [
      "             precision    recall  f1-score   support\n",
      "\n",
      "        0.0       0.91      0.98      0.94       980\n",
      "        1.0       0.95      0.98      0.96      1135\n",
      "        2.0       0.89      0.84      0.86      1032\n",
      "        3.0       0.86      0.87      0.86      1010\n",
      "        4.0       0.86      0.90      0.88       982\n",
      "        5.0       0.83      0.77      0.80       892\n",
      "        6.0       0.91      0.93      0.92       958\n",
      "        7.0       0.90      0.90      0.90      1028\n",
      "        8.0       0.85      0.82      0.84       974\n",
      "        9.0       0.85      0.82      0.83      1009\n",
      "\n",
      "avg / total       0.88      0.88      0.88     10000\n",
      "\n",
      "[[ 958    0    2    2    1    5    9    1    2    0]\n",
      " [   0 1107    3    2    0    3    4    1   15    0]\n",
      " [  12   13  866   22   15    3   22   19   46   14]\n",
      " [   4    2   25  876    1   43    6   15   19   19]\n",
      " [   3    4    7    1  884    4   10    3   10   56]\n",
      " [  22    3    6   65   25  688   25    9   32   17]\n",
      " [  18    3    6    2   13   16  895    1    4    0]\n",
      " [   6   16   30    3   16    2    0  929    3   23]\n",
      " [  15   11   20   37   12   36   14    9  802   18]\n",
      " [  12   11    8   13   62   25    1   42   12  823]]\n"
     ]
    }
   ],
   "source": [
    "from sklearn import metrics\n",
    "\n",
    "grid.score(testing_data, testing_labels)\n",
    "\n",
    "test_predictions = grid.predict(testing_data)\n",
    "print(metrics.classification_report(testing_labels, test_predictions))\n",
    "print(metrics.confusion_matrix(testing_labels, test_predictions))"
   ]
  },
  {
   "cell_type": "markdown",
   "metadata": {
    "slideshow": {
     "slide_type": "slide"
    }
   },
   "source": [
    "# Exercise\n",
    "\n",
    "1. Look at the classification report measures and try out other metrics included in sklearn.\n",
    "2. How would you evaluate performance on a highly unbalanced dataset?"
   ]
  },
  {
   "cell_type": "markdown",
   "metadata": {
    "slideshow": {
     "slide_type": "slide"
    }
   },
   "source": [
    "# Extending scikit-learn\n",
    "\n",
    "Input Data --> Machine Learning --> Predictions"
   ]
  },
  {
   "cell_type": "markdown",
   "metadata": {
    "slideshow": {
     "slide_type": "notes"
    }
   },
   "source": [
    "# Implementation notes\n",
    "\n",
    "- The classifier object is the whole thing, reliant on pickle or joblib for persistence with all the concerns that implies\n",
    "- scikit-learn doesn't (currently?) have good support for data interchange.\n",
    "\n",
    "# Ethical Considerations\n",
    "\n",
    "- An algorithm is only as unbiased as its training data..."
   ]
  },
  {
   "cell_type": "markdown",
   "metadata": {
    "slideshow": {
     "slide_type": "slide"
    }
   },
   "source": [
    "# Deep Learning???\n",
    "\n",
    "\n",
    "Input --> Features --> Features --> Features --> Features --> Features --> Output"
   ]
  },
  {
   "cell_type": "markdown",
   "metadata": {
    "slideshow": {
     "slide_type": "notes"
    }
   },
   "source": [
    "- Differences from the previous diagram I showed of a typical machine learning architecture\n",
    "- Typical modern network for images: 20 layers deep, 10's - 100's of millions of parameters (ie final model on the order of 400 MiB)"
   ]
  },
  {
   "cell_type": "markdown",
   "metadata": {
    "slideshow": {
     "slide_type": "subslide"
    }
   },
   "source": [
    "AlphaGo:\n",
    "\n",
    "\"\"\" The final version of AlphaGo used 40 search threads, 48 CPUs, and 8 GPUs. We also implemented a distributed version of AlphaGo that exploited multiple machines, 40 search threads, 1,202 CPUs and 176 GPUs. \"\"\"\n",
    "\n",
    "http://www.nature.com/nature/journal/v529/n7587/full/nature16961.html"
   ]
  },
  {
   "cell_type": "markdown",
   "metadata": {},
   "source": [
    "# Other Useful Stuff\n",
    "\n",
    "- [PyCon-Au Talk by Chris Hausler from Zendesk](https://2015.pycon-au.org/schedule/30092/view_talk?day=friday)"
   ]
  },
  {
   "cell_type": "markdown",
   "metadata": {
    "slideshow": {
     "slide_type": "slide"
    }
   },
   "source": [
    "# Contact\n",
    "\n",
    "    sam@hames.id.au\n",
    "    Twitter: @scmHames\n",
    "\n",
    "These workshop notes will be on github, sometime.\n",
    "https://github.com/samhames/\n"
   ]
  }
 ],
 "metadata": {
  "celltoolbar": "Slideshow",
  "kernelspec": {
   "display_name": "Python 3",
   "language": "python",
   "name": "python3"
  },
  "language_info": {
   "codemirror_mode": {
    "name": "ipython",
    "version": 3
   },
   "file_extension": ".py",
   "mimetype": "text/x-python",
   "name": "python",
   "nbconvert_exporter": "python",
   "pygments_lexer": "ipython3",
   "version": "3.5.1"
  }
 },
 "nbformat": 4,
 "nbformat_minor": 0
}
